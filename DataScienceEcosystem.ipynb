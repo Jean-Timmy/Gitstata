{
 "cells": [
  {
   "cell_type": "markdown",
   "id": "7ae06268",
   "metadata": {},
   "source": [
    "# Exercise 1: Create a Jupyter Notebook"
   ]
  },
  {
   "cell_type": "markdown",
   "id": "845279a7",
   "metadata": {},
   "source": [
    "Here we Create a new Jupyter notebook called DataScienceEcosystem.ipynb"
   ]
  },
  {
   "cell_type": "markdown",
   "id": "91cd0225",
   "metadata": {},
   "source": [
    "# Exercise 2: Create markdown cell with title of the notebook"
   ]
  },
  {
   "cell_type": "markdown",
   "id": "2c37364a",
   "metadata": {},
   "source": [
    "# Data Science Tools and Ecosystem"
   ]
  },
  {
   "cell_type": "markdown",
   "id": "fb6e908d",
   "metadata": {},
   "source": [
    "# Exercise 3 - Create a markdown cell for an introduction"
   ]
  },
  {
   "cell_type": "markdown",
   "id": "18c0ff29",
   "metadata": {},
   "source": [
    "In this notebook, Data Science Tools and Ecosystem are summarized."
   ]
  },
  {
   "cell_type": "markdown",
   "id": "2fb71f1d",
   "metadata": {},
   "source": [
    "# Exercise 4 - Create a markdown cell to list data science languages"
   ]
  },
  {
   "cell_type": "code",
   "execution_count": 6,
   "id": "962001d5",
   "metadata": {},
   "outputs": [
    {
     "name": "stdout",
     "output_type": "stream",
     "text": [
      "Some of the popular languages that Data Scientists use are:\n",
      "['Python', 'R', 'Java']\n"
     ]
    }
   ],
   "source": [
    "dalanguage=\"Some of the popular languages that Data Scientists use are:\"\n",
    "mastr=\"Python  R  Java\"\n",
    "print(dalanguage)\n",
    "print(mastr.split())"
   ]
  },
  {
   "cell_type": "markdown",
   "id": "7f476d67",
   "metadata": {},
   "source": [
    "# Exercise 5 - Create a markdown cell to list data science libraries"
   ]
  },
  {
   "cell_type": "code",
   "execution_count": 7,
   "id": "44aea495",
   "metadata": {},
   "outputs": [
    {
     "name": "stdout",
     "output_type": "stream",
     "text": [
      "Some of the commonly used libraries used by Data Scientists include:\n",
      "['Pandas,Numpy,', 'Matplotlib,Seaborn,', 'Scikit-Learn,keras,', 'Tensorflow', 'and', 'Pytorch']\n"
     ]
    }
   ],
   "source": [
    "str=\"Some of the commonly used libraries used by Data Scientists include:\"\n",
    "dalib=\"Pandas,Numpy, Matplotlib,Seaborn, Scikit-Learn,keras,   Tensorflow and Pytorch\"\n",
    "print(str)\n",
    "print(dalib.split())"
   ]
  },
  {
   "cell_type": "markdown",
   "id": "00c9a3d9",
   "metadata": {},
   "source": [
    "# Exercise 6 - Create a markdown cell with a table of Data Science tools"
   ]
  },
  {
   "cell_type": "code",
   "execution_count": 8,
   "id": "de674c88",
   "metadata": {},
   "outputs": [
    {
     "data": {
      "text/html": [
       "<div>\n",
       "<style scoped>\n",
       "    .dataframe tbody tr th:only-of-type {\n",
       "        vertical-align: middle;\n",
       "    }\n",
       "\n",
       "    .dataframe tbody tr th {\n",
       "        vertical-align: top;\n",
       "    }\n",
       "\n",
       "    .dataframe thead th {\n",
       "        text-align: right;\n",
       "    }\n",
       "</style>\n",
       "<table border=\"1\" class=\"dataframe\">\n",
       "  <thead>\n",
       "    <tr style=\"text-align: right;\">\n",
       "      <th></th>\n",
       "      <th>Data Science Tools</th>\n",
       "    </tr>\n",
       "  </thead>\n",
       "  <tbody>\n",
       "    <tr>\n",
       "      <th>0</th>\n",
       "      <td>Jupyter</td>\n",
       "    </tr>\n",
       "    <tr>\n",
       "      <th>1</th>\n",
       "      <td>R Studio</td>\n",
       "    </tr>\n",
       "    <tr>\n",
       "      <th>2</th>\n",
       "      <td>Watson studio</td>\n",
       "    </tr>\n",
       "  </tbody>\n",
       "</table>\n",
       "</div>"
      ],
      "text/plain": [
       "  Data Science Tools \n",
       "0             Jupyter\n",
       "1            R Studio\n",
       "2       Watson studio"
      ]
     },
     "execution_count": 8,
     "metadata": {},
     "output_type": "execute_result"
    }
   ],
   "source": [
    "import pandas as pd\n",
    "df=pd.DataFrame({\"Data Science Tools \":[\"Jupyter\",\"R Studio\",\"Watson studio\"]})\n",
    "df"
   ]
  },
  {
   "cell_type": "markdown",
   "id": "08ece60a",
   "metadata": {},
   "source": [
    "# Exercise 7 - Create a markdown cell introducing arithmetic expression "
   ]
  },
  {
   "cell_type": "markdown",
   "id": "1b3ddc43",
   "metadata": {},
   "source": [
    "TITLE With H3 is in a below cell after this cell:"
   ]
  },
  {
   "cell_type": "markdown",
   "id": "ea44e6a3",
   "metadata": {},
   "source": [
    "### Below are a few examples of evaluating arithmetic expressions in Python."
   ]
  },
  {
   "cell_type": "markdown",
   "id": "8e9f51b1",
   "metadata": {},
   "source": [
    "Evaluating Basic Arithmetic Expression"
   ]
  },
  {
   "cell_type": "code",
   "execution_count": 10,
   "id": "7e53054e",
   "metadata": {},
   "outputs": [
    {
     "data": {
      "text/plain": [
       "150"
      ]
     },
     "execution_count": 10,
     "metadata": {},
     "output_type": "execute_result"
    }
   ],
   "source": [
    "(160+4)-14"
   ]
  },
  {
   "cell_type": "markdown",
   "id": "7f3933fe",
   "metadata": {},
   "source": [
    "# Exercise 8 - Create a code cell to multiply and add numbers"
   ]
  },
  {
   "cell_type": "markdown",
   "id": "4eccc7ee",
   "metadata": {},
   "source": [
    "This a simple arithmetic  expression to mutiply then add integers."
   ]
  },
  {
   "cell_type": "code",
   "execution_count": 11,
   "id": "0ad4b50a",
   "metadata": {},
   "outputs": [
    {
     "data": {
      "text/plain": [
       "17.0"
      ]
     },
     "execution_count": 11,
     "metadata": {},
     "output_type": "execute_result"
    }
   ],
   "source": [
    "(3*4)+5."
   ]
  },
  {
   "cell_type": "markdown",
   "id": "af15d284",
   "metadata": {},
   "source": [
    "# Exercise 9 - Create a code cell to convert minutes to hours"
   ]
  },
  {
   "cell_type": "markdown",
   "id": "af92b439",
   "metadata": {},
   "source": [
    "This will convert 200  minutes to hours by diving by 60"
   ]
  },
  {
   "cell_type": "code",
   "execution_count": 3,
   "id": "696a5287",
   "metadata": {},
   "outputs": [
    {
     "data": {
      "text/plain": [
       "3.3333333333333335"
      ]
     },
     "execution_count": 3,
     "metadata": {},
     "output_type": "execute_result"
    }
   ],
   "source": [
    "200/60 "
   ]
  },
  {
   "cell_type": "markdown",
   "id": "79e936ea",
   "metadata": {},
   "source": [
    "# Exercise 10 - Insert a markdown cell to list Objectives"
   ]
  },
  {
   "cell_type": "markdown",
   "id": "86777ae4",
   "metadata": {},
   "source": [
    "In this new cell start with an introductory line titled: Objectives: in bold font. Then using an unordered list (bullets) indicate\n",
    "3 to 5 items covered in this notebook, such as List popular languages for Data Science."
   ]
  },
  {
   "cell_type": "code",
   "execution_count": 5,
   "id": "71bdbe4a",
   "metadata": {},
   "outputs": [
    {
     "data": {
      "text/html": [
       "<div>\n",
       "<style scoped>\n",
       "    .dataframe tbody tr th:only-of-type {\n",
       "        vertical-align: middle;\n",
       "    }\n",
       "\n",
       "    .dataframe tbody tr th {\n",
       "        vertical-align: top;\n",
       "    }\n",
       "\n",
       "    .dataframe thead th {\n",
       "        text-align: right;\n",
       "    }\n",
       "</style>\n",
       "<table border=\"1\" class=\"dataframe\">\n",
       "  <thead>\n",
       "    <tr style=\"text-align: right;\">\n",
       "      <th></th>\n",
       "      <th>Numéro</th>\n",
       "      <th>Data science Language</th>\n",
       "      <th>Open Source Developpement Environment</th>\n",
       "    </tr>\n",
       "  </thead>\n",
       "  <tbody>\n",
       "    <tr>\n",
       "      <th>0</th>\n",
       "      <td>1</td>\n",
       "      <td>Python</td>\n",
       "      <td>Jupyter</td>\n",
       "    </tr>\n",
       "    <tr>\n",
       "      <th>1</th>\n",
       "      <td>2</td>\n",
       "      <td>R Language</td>\n",
       "      <td>R Studio</td>\n",
       "    </tr>\n",
       "    <tr>\n",
       "      <th>2</th>\n",
       "      <td>3</td>\n",
       "      <td>Java,Scala and others</td>\n",
       "      <td>Watson studio</td>\n",
       "    </tr>\n",
       "  </tbody>\n",
       "</table>\n",
       "</div>"
      ],
      "text/plain": [
       "   Numéro  Data science Language Open Source Developpement Environment\n",
       "0       1                 Python                               Jupyter\n",
       "1       2            R Language                               R Studio\n",
       "2       3  Java,Scala and others                         Watson studio"
      ]
     },
     "execution_count": 5,
     "metadata": {},
     "output_type": "execute_result"
    }
   ],
   "source": [
    "import pandas as pd\n",
    "df=pd.DataFrame({\"Numéro\":[1,2,3], \"Data science Language\":[\"Python\",\"R Language \",\"Java,Scala and others\"],\n",
    "                 \"Open Source Developpement Environment\":[\"Jupyter\",\"R Studio\",\"Watson studio\"]})\n",
    "df"
   ]
  },
  {
   "cell_type": "markdown",
   "id": "5ff31a44",
   "metadata": {},
   "source": [
    "# Exercise 11 - Create a markdown cell to indicate the Author's name"
   ]
  },
  {
   "cell_type": "markdown",
   "id": "bc4e34de",
   "metadata": {},
   "source": [
    "## Author in H2 style heading"
   ]
  },
  {
   "cell_type": "markdown",
   "id": "a08259d5",
   "metadata": {},
   "source": [
    "In this markdown cell markdown cell include the following text Author in H2 style heading.\n",
    "Include your name as regular text below the word Author."
   ]
  },
  {
   "cell_type": "markdown",
   "id": "ecfb5675",
   "metadata": {},
   "source": [
    "## Author Name : KPADONOU  Jean-Marie"
   ]
  },
  {
   "cell_type": "markdown",
   "id": "a449122e",
   "metadata": {},
   "source": [
    "# Exercise 12 - Share your notebook through GitHub"
   ]
  },
  {
   "cell_type": "markdown",
   "id": "9dae8b48",
   "metadata": {},
   "source": [
    "the Git hub link or url is below:"
   ]
  },
  {
   "cell_type": "markdown",
   "id": "4929f6fd",
   "metadata": {},
   "source": [
    "# Exercise 13 - Take a screenshot of the first page of the notebook."
   ]
  },
  {
   "cell_type": "markdown",
   "id": "d4032342",
   "metadata": {},
   "source": [
    "All screenshot about each exercise from 1 to 13 is avalaible by the zip download at our github link given above"
   ]
  },
  {
   "cell_type": "markdown",
   "id": "82d8ffc6",
   "metadata": {},
   "source": [
    "# GIT MASTER BRANCH"
   ]
  },
  {
   "cell_type": "markdown",
   "id": "a4df72d7",
   "metadata": {},
   "source": [
    "All screenshot about each exercise from 1 to 13 is avalaible by the master branch and sourcecode at our github link given above"
   ]
  }
 ],
 "metadata": {
  "kernelspec": {
   "display_name": "Python 3 (ipykernel)",
   "language": "python",
   "name": "python3"
  },
  "language_info": {
   "codemirror_mode": {
    "name": "ipython",
    "version": 3
   },
   "file_extension": ".py",
   "mimetype": "text/x-python",
   "name": "python",
   "nbconvert_exporter": "python",
   "pygments_lexer": "ipython3",
   "version": "3.9.13"
  }
 },
 "nbformat": 4,
 "nbformat_minor": 5
}
