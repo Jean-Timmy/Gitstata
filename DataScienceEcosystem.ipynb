{
 "cells": [
  {
   "cell_type": "code",
   "execution_count": null,
   "id": "3a4d90d2",
   "metadata": {},
   "outputs": [],
   "source": []
  },
  {
   "cell_type": "markdown",
   "id": "91cd0225",
   "metadata": {},
   "source": [
    "# Exercise 2: Create markdown cell with title of the notebook"
   ]
  },
  {
   "cell_type": "markdown",
   "id": "2c37364a",
   "metadata": {},
   "source": [
    "# Data Science Tools and Ecosystem"
   ]
  },
  {
   "cell_type": "markdown",
   "id": "fb6e908d",
   "metadata": {},
   "source": [
    "# Exercise 3 - Create a markdown cell for an introduction"
   ]
  },
  {
   "cell_type": "markdown",
   "id": "18c0ff29",
   "metadata": {},
   "source": [
    "In this notebook, Data Science Tools and Ecosystem are summarized."
   ]
  },
  {
   "cell_type": "markdown",
   "id": "2fb71f1d",
   "metadata": {},
   "source": [
    "# Exercise 4 - Create a markdown cell to list data science languages"
   ]
  },
  {
   "cell_type": "code",
   "execution_count": 34,
   "id": "962001d5",
   "metadata": {},
   "outputs": [
    {
     "name": "stdout",
     "output_type": "stream",
     "text": [
      "Some of the popular languages that Data Scientists use are:\n",
      "['Python', 'R', 'Java']\n"
     ]
    }
   ],
   "source": [
    "dalanguage=\"Some of the popular languages that Data Scientists use are:\"\n",
    "mastr=\"Python  R  Java\"\n",
    "print(dalanguage)\n",
    "print(mastr.split())"
   ]
  },
  {
   "cell_type": "code",
   "execution_count": 16,
   "id": "ddff6cc2",
   "metadata": {},
   "outputs": [
    {
     "name": "stdout",
     "output_type": "stream",
     "text": [
      "<class 'list'>\n",
      "3\n"
     ]
    }
   ],
   "source": [
    "listA = [\"Python\",\"R Language\",\"Java and scala\"]\n",
    "print(type(listA))\n",
    "print(len(listA))"
   ]
  },
  {
   "cell_type": "code",
   "execution_count": 20,
   "id": "1ad10a39",
   "metadata": {},
   "outputs": [
    {
     "name": "stdout",
     "output_type": "stream",
     "text": [
      "['Some of the popular languages that Data Scientists use are:', 'Python', 'R Language', 'Java and scala']\n"
     ]
    }
   ],
   "source": [
    "listA = [\"Some of the popular languages that Data Scientists use are:\"]+ [\"Python\",\"R Language\",\"Java and scala\"]\n",
    "print(listA)"
   ]
  },
  {
   "cell_type": "markdown",
   "id": "7f476d67",
   "metadata": {},
   "source": [
    "# Exercise 5 - Create a markdown cell to list data science libraries"
   ]
  },
  {
   "cell_type": "code",
   "execution_count": 38,
   "id": "44aea495",
   "metadata": {},
   "outputs": [
    {
     "name": "stdout",
     "output_type": "stream",
     "text": [
      "Some of the commonly used libraries used by Data Scientists include:\n",
      "['Pandas,Numpy,', 'Matplotlib,Seaborn,', 'Scikit-Learn,keras,', 'Tensorflow', 'and', 'Pytorch']\n"
     ]
    }
   ],
   "source": [
    "str=\"Some of the commonly used libraries used by Data Scientists include:\"\n",
    "dalib=\"Pandas,Numpy, Matplotlib,Seaborn, Scikit-Learn,keras,   Tensorflow and Pytorch\"\n",
    "print(str)\n",
    "print(dalib.split())"
   ]
  },
  {
   "cell_type": "code",
   "execution_count": null,
   "id": "f9083711",
   "metadata": {},
   "outputs": [],
   "source": []
  },
  {
   "cell_type": "markdown",
   "id": "00c9a3d9",
   "metadata": {},
   "source": [
    "# Exercise 6 - Create a markdown cell with a table of Data Science tools"
   ]
  },
  {
   "cell_type": "code",
   "execution_count": 55,
   "id": "de674c88",
   "metadata": {},
   "outputs": [
    {
     "data": {
      "text/html": [
       "<div>\n",
       "<style scoped>\n",
       "    .dataframe tbody tr th:only-of-type {\n",
       "        vertical-align: middle;\n",
       "    }\n",
       "\n",
       "    .dataframe tbody tr th {\n",
       "        vertical-align: top;\n",
       "    }\n",
       "\n",
       "    .dataframe thead th {\n",
       "        text-align: right;\n",
       "    }\n",
       "</style>\n",
       "<table border=\"1\" class=\"dataframe\">\n",
       "  <thead>\n",
       "    <tr style=\"text-align: right;\">\n",
       "      <th></th>\n",
       "      <th>Data Science Tools</th>\n",
       "    </tr>\n",
       "  </thead>\n",
       "  <tbody>\n",
       "    <tr>\n",
       "      <th>0</th>\n",
       "      <td>Jupyter</td>\n",
       "    </tr>\n",
       "    <tr>\n",
       "      <th>1</th>\n",
       "      <td>R Studio</td>\n",
       "    </tr>\n",
       "    <tr>\n",
       "      <th>2</th>\n",
       "      <td>Watson studio</td>\n",
       "    </tr>\n",
       "  </tbody>\n",
       "</table>\n",
       "</div>"
      ],
      "text/plain": [
       "  Data Science Tools \n",
       "0             Jupyter\n",
       "1            R Studio\n",
       "2       Watson studio"
      ]
     },
     "execution_count": 55,
     "metadata": {},
     "output_type": "execute_result"
    }
   ],
   "source": [
    "import pandas as pd\n",
    "df=pd.DataFrame({\"Data Science Tools \":[\"Jupyter\",\"R Studio\",\"Watson studio\"]})\n",
    "df"
   ]
  },
  {
   "cell_type": "code",
   "execution_count": null,
   "id": "afe6af65",
   "metadata": {},
   "outputs": [],
   "source": []
  },
  {
   "cell_type": "markdown",
   "id": "08ece60a",
   "metadata": {},
   "source": [
    "# Exercise 7 - Create a markdown cell introducing arithmetic expression "
   ]
  },
  {
   "cell_type": "code",
   "execution_count": null,
   "id": "2294ac84",
   "metadata": {},
   "outputs": [],
   "source": [
    "TITLE With H3"
   ]
  },
  {
   "cell_type": "markdown",
   "id": "ea44e6a3",
   "metadata": {},
   "source": [
    "### Below are a few examples of evaluating arithmetic expressions in Python."
   ]
  },
  {
   "cell_type": "code",
   "execution_count": null,
   "id": "888cb484",
   "metadata": {},
   "outputs": [],
   "source": [
    "Evaluating Basic Arithmetic Expression"
   ]
  },
  {
   "cell_type": "code",
   "execution_count": 59,
   "id": "7e53054e",
   "metadata": {},
   "outputs": [
    {
     "data": {
      "text/plain": [
       "6"
      ]
     },
     "execution_count": 59,
     "metadata": {},
     "output_type": "execute_result"
    }
   ],
   "source": [
    "(16+4)-14"
   ]
  },
  {
   "cell_type": "markdown",
   "id": "7f3933fe",
   "metadata": {},
   "source": [
    "# Exercise 8 - Create a code cell to multiply and add numbers"
   ]
  },
  {
   "cell_type": "code",
   "execution_count": null,
   "id": "96d6a3de",
   "metadata": {},
   "outputs": [],
   "source": [
    "This a simple arithmetic  expression to mutiply then add integers."
   ]
  },
  {
   "cell_type": "code",
   "execution_count": 60,
   "id": "0ad4b50a",
   "metadata": {},
   "outputs": [
    {
     "data": {
      "text/plain": [
       "17.0"
      ]
     },
     "execution_count": 60,
     "metadata": {},
     "output_type": "execute_result"
    }
   ],
   "source": [
    "(3*4)+5."
   ]
  },
  {
   "cell_type": "markdown",
   "id": "af15d284",
   "metadata": {},
   "source": [
    "# Exercise 9 - Create a code cell to convert minutes to hours"
   ]
  },
  {
   "cell_type": "code",
   "execution_count": 70,
   "id": "4b98d301",
   "metadata": {},
   "outputs": [
    {
     "ename": "SyntaxError",
     "evalue": "invalid syntax (75534077.py, line 1)",
     "output_type": "error",
     "traceback": [
      "\u001b[1;36m  File \u001b[1;32m\"C:\\Users\\JM\\AppData\\Local\\Temp\\ipykernel_5592\\75534077.py\"\u001b[1;36m, line \u001b[1;32m1\u001b[0m\n\u001b[1;33m    This will convert 200  minutes to hours by diving by 60\u001b[0m\n\u001b[1;37m         ^\u001b[0m\n\u001b[1;31mSyntaxError\u001b[0m\u001b[1;31m:\u001b[0m invalid syntax\n"
     ]
    }
   ],
   "source": [
    "This will convert 200  minutes to hours by diving by 60"
   ]
  },
  {
   "cell_type": "code",
   "execution_count": 69,
   "id": "696a5287",
   "metadata": {},
   "outputs": [
    {
     "data": {
      "text/plain": [
       "3.3333333333333335"
      ]
     },
     "execution_count": 69,
     "metadata": {},
     "output_type": "execute_result"
    }
   ],
   "source": [
    "200/60 "
   ]
  },
  {
   "cell_type": "markdown",
   "id": "79e936ea",
   "metadata": {},
   "source": [
    "# Exercise 10 - Insert a markdown cell to list Objectives"
   ]
  },
  {
   "cell_type": "code",
   "execution_count": null,
   "id": "1cbd7e93",
   "metadata": {},
   "outputs": [],
   "source": [
    "In this new cell start with an introductory line titled: Objectives: in bold font. Then using an unordered list (bullets) indicate\n",
    "3 to 5 items covered in this notebook, such as List popular languages for Data Science."
   ]
  },
  {
   "cell_type": "code",
   "execution_count": 71,
   "id": "71bdbe4a",
   "metadata": {},
   "outputs": [
    {
     "data": {
      "text/html": [
       "<div>\n",
       "<style scoped>\n",
       "    .dataframe tbody tr th:only-of-type {\n",
       "        vertical-align: middle;\n",
       "    }\n",
       "\n",
       "    .dataframe tbody tr th {\n",
       "        vertical-align: top;\n",
       "    }\n",
       "\n",
       "    .dataframe thead th {\n",
       "        text-align: right;\n",
       "    }\n",
       "</style>\n",
       "<table border=\"1\" class=\"dataframe\">\n",
       "  <thead>\n",
       "    <tr style=\"text-align: right;\">\n",
       "      <th></th>\n",
       "      <th>Numéro</th>\n",
       "      <th>Data science Language</th>\n",
       "      <th>Open Source Developpement Environment</th>\n",
       "    </tr>\n",
       "  </thead>\n",
       "  <tbody>\n",
       "    <tr>\n",
       "      <th>0</th>\n",
       "      <td>1</td>\n",
       "      <td>Python</td>\n",
       "      <td>Jupyter</td>\n",
       "    </tr>\n",
       "    <tr>\n",
       "      <th>1</th>\n",
       "      <td>2</td>\n",
       "      <td>R Language</td>\n",
       "      <td>R Studio</td>\n",
       "    </tr>\n",
       "    <tr>\n",
       "      <th>2</th>\n",
       "      <td>3</td>\n",
       "      <td>Java,Scala and others</td>\n",
       "      <td>Watson studio</td>\n",
       "    </tr>\n",
       "  </tbody>\n",
       "</table>\n",
       "</div>"
      ],
      "text/plain": [
       "   Numéro  Data science Language Open Source Developpement Environment\n",
       "0       1                 Python                               Jupyter\n",
       "1       2            R Language                               R Studio\n",
       "2       3  Java,Scala and others                         Watson studio"
      ]
     },
     "execution_count": 71,
     "metadata": {},
     "output_type": "execute_result"
    }
   ],
   "source": [
    "import pandas as pd\n",
    "df=pd.DataFrame({\"Numéro\":[1,2,3], \"Data science Language\":[\"Python\",\"R Language \",\"Java,Scala and others\"],\n",
    "                 \"Open Source Developpement Environment\":[\"Jupyter\",\"R Studio\",\"Watson studio\"]})\n",
    "df"
   ]
  },
  {
   "cell_type": "code",
   "execution_count": null,
   "id": "ddd2609d",
   "metadata": {},
   "outputs": [],
   "source": []
  },
  {
   "cell_type": "markdown",
   "id": "5ff31a44",
   "metadata": {},
   "source": [
    "# Exercise 11 - Create a markdown cell to indicate the Author's name"
   ]
  },
  {
   "cell_type": "markdown",
   "id": "bc4e34de",
   "metadata": {},
   "source": [
    "## Author in H2 style heading"
   ]
  },
  {
   "cell_type": "code",
   "execution_count": null,
   "id": "22bcb36b",
   "metadata": {},
   "outputs": [],
   "source": [
    "In this markdown cell markdown cell include the following text Author in H2 style heading.\n",
    "Include your name as regular text below the word Author."
   ]
  },
  {
   "cell_type": "code",
   "execution_count": 73,
   "id": "8ff21765",
   "metadata": {},
   "outputs": [
    {
     "ename": "SyntaxError",
     "evalue": "invalid syntax (3790686773.py, line 1)",
     "output_type": "error",
     "traceback": [
      "\u001b[1;36m  File \u001b[1;32m\"C:\\Users\\JM\\AppData\\Local\\Temp\\ipykernel_5592\\3790686773.py\"\u001b[1;36m, line \u001b[1;32m1\u001b[0m\n\u001b[1;33m    Author Name : KPADPONU\u001b[0m\n\u001b[1;37m           ^\u001b[0m\n\u001b[1;31mSyntaxError\u001b[0m\u001b[1;31m:\u001b[0m invalid syntax\n"
     ]
    }
   ],
   "source": [
    "Author Name : KPADPONU Jean-Marie"
   ]
  },
  {
   "cell_type": "markdown",
   "id": "a449122e",
   "metadata": {},
   "source": [
    "# Exercise 12 - Share your notebook through GitHub"
   ]
  },
  {
   "cell_type": "code",
   "execution_count": null,
   "id": "c4a0887e",
   "metadata": {},
   "outputs": [],
   "source": [
    "this project Git hub link or url is "
   ]
  },
  {
   "cell_type": "code",
   "execution_count": null,
   "id": "a60ecd73",
   "metadata": {},
   "outputs": [],
   "source": []
  },
  {
   "cell_type": "markdown",
   "id": "4929f6fd",
   "metadata": {},
   "source": [
    "# Exercise 13 - Take a screenshot of the first page of the notebook."
   ]
  },
  {
   "cell_type": "code",
   "execution_count": null,
   "id": "f5bf52fa",
   "metadata": {},
   "outputs": [],
   "source": []
  },
  {
   "cell_type": "code",
   "execution_count": null,
   "id": "201ab856",
   "metadata": {},
   "outputs": [],
   "source": []
  }
 ],
 "metadata": {
  "kernelspec": {
   "display_name": "Python 3 (ipykernel)",
   "language": "python",
   "name": "python3"
  },
  "language_info": {
   "codemirror_mode": {
    "name": "ipython",
    "version": 3
   },
   "file_extension": ".py",
   "mimetype": "text/x-python",
   "name": "python",
   "nbconvert_exporter": "python",
   "pygments_lexer": "ipython3",
   "version": "3.9.13"
  }
 },
 "nbformat": 4,
 "nbformat_minor": 5
}
