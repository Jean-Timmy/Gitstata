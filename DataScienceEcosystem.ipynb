{
 "cells": [
  {
   "cell_type": "markdown",
   "id": "7ae06268",
   "metadata": {},
   "source": [
    "# Exercise 1: Create a Jupyter Notebook"
   ]
  },
  {
   "cell_type": "markdown",
   "id": "845279a7",
   "metadata": {},
   "source": [
    "Here we Create a new Jupyter notebook called DataScienceEcosystem.ipynb"
   ]
  },
  {
   "cell_type": "markdown",
   "id": "91cd0225",
   "metadata": {},
   "source": [
    "# Exercise 2: Create markdown cell with title of the notebook"
   ]
  },
  {
   "cell_type": "markdown",
   "id": "2c37364a",
   "metadata": {},
   "source": [
    "#   Data Science Tools and Ecosystem\n",
    "Notebook Title "
   ]
  },
  {
   "cell_type": "markdown",
   "id": "fb6e908d",
   "metadata": {},
   "source": [
    "# Exercise 3 - Create a markdown cell for an introduction"
   ]
  },
  {
   "cell_type": "markdown",
   "id": "6399bd80",
   "metadata": {},
   "source": [
    "# Introduction :"
   ]
  },
  {
   "cell_type": "markdown",
   "id": "18c0ff29",
   "metadata": {},
   "source": [
    " In this notebook, Data Science Tools and Ecosystem are summarized."
   ]
  },
  {
   "cell_type": "markdown",
   "id": "2fb71f1d",
   "metadata": {},
   "source": [
    "# Exercise 4 - Create a markdown cell to list data science languages"
   ]
  },
  {
   "cell_type": "markdown",
   "id": "c3761a63",
   "metadata": {},
   "source": [
    "###   Some of the popular languages that Data Scientists use are:\n",
    "###   1-PYTHON\n",
    "###   2-R  Language\n",
    "###   3-SQL\n",
    "###   4-JAVA\n",
    "###   5-SCALA\n",
    "###   6-JULIA"
   ]
  },
  {
   "cell_type": "markdown",
   "id": "7f476d67",
   "metadata": {},
   "source": [
    "# Exercise 5 - Create a markdown cell to list data science libraries"
   ]
  },
  {
   "cell_type": "markdown",
   "id": "dbe993a9",
   "metadata": {},
   "source": [
    "###  Some of the commonly used libraries used by Data Scientists include :\n",
    "###   1-Pandas\n",
    "###   2-Numpy\n",
    "###   3-Matplotlib\n",
    "###   4-Seaborn\n",
    "###   5-Scikit-learn\n",
    "###   6-Keras\n",
    "###   7-Tensorflow\n",
    "###   8-Pytorch\n"
   ]
  },
  {
   "cell_type": "markdown",
   "id": "00c9a3d9",
   "metadata": {},
   "source": [
    "# Exercise 6 - Create a markdown cell with a table of Data Science tools"
   ]
  },
  {
   "cell_type": "code",
   "execution_count": 6,
   "id": "de674c88",
   "metadata": {},
   "outputs": [
    {
     "data": {
      "text/html": [
       "<div>\n",
       "<style scoped>\n",
       "    .dataframe tbody tr th:only-of-type {\n",
       "        vertical-align: middle;\n",
       "    }\n",
       "\n",
       "    .dataframe tbody tr th {\n",
       "        vertical-align: top;\n",
       "    }\n",
       "\n",
       "    .dataframe thead th {\n",
       "        text-align: right;\n",
       "    }\n",
       "</style>\n",
       "<table border=\"1\" class=\"dataframe\">\n",
       "  <thead>\n",
       "    <tr style=\"text-align: right;\">\n",
       "      <th></th>\n",
       "      <th>Data Science Tools</th>\n",
       "    </tr>\n",
       "  </thead>\n",
       "  <tbody>\n",
       "    <tr>\n",
       "      <th>0</th>\n",
       "      <td>Jupyter</td>\n",
       "    </tr>\n",
       "    <tr>\n",
       "      <th>1</th>\n",
       "      <td>R Studio</td>\n",
       "    </tr>\n",
       "    <tr>\n",
       "      <th>2</th>\n",
       "      <td>Watson studio</td>\n",
       "    </tr>\n",
       "  </tbody>\n",
       "</table>\n",
       "</div>"
      ],
      "text/plain": [
       "  Data Science Tools \n",
       "0             Jupyter\n",
       "1            R Studio\n",
       "2       Watson studio"
      ]
     },
     "execution_count": 6,
     "metadata": {},
     "output_type": "execute_result"
    }
   ],
   "source": [
    "import pandas as pd\n",
    "df=pd.DataFrame({\"Data Science Tools \":[\"Jupyter\",\"R Studio\",\"Watson studio\"]})\n",
    "df"
   ]
  },
  {
   "cell_type": "markdown",
   "id": "08ece60a",
   "metadata": {},
   "source": [
    "# Exercise 7 - Create a markdown cell introducing arithmetic expression "
   ]
  },
  {
   "cell_type": "markdown",
   "id": "1b3ddc43",
   "metadata": {},
   "source": [
    "TITLE With H3 is in a below cell after this cell:"
   ]
  },
  {
   "cell_type": "markdown",
   "id": "ea44e6a3",
   "metadata": {},
   "source": [
    "### Below are a few examples of evaluating arithmetic expressions in Python."
   ]
  },
  {
   "cell_type": "code",
   "execution_count": 7,
   "id": "7e53054e",
   "metadata": {},
   "outputs": [
    {
     "data": {
      "text/plain": [
       "150"
      ]
     },
     "execution_count": 7,
     "metadata": {},
     "output_type": "execute_result"
    }
   ],
   "source": [
    "(160+4)-14"
   ]
  },
  {
   "cell_type": "markdown",
   "id": "7f3933fe",
   "metadata": {},
   "source": [
    "# Exercise 8 - Create a code cell to multiply and add numbers"
   ]
  },
  {
   "cell_type": "markdown",
   "id": "4eccc7ee",
   "metadata": {},
   "source": [
    "###  This a simple arithmetic  expression to mutiply then add integers."
   ]
  },
  {
   "cell_type": "code",
   "execution_count": 8,
   "id": "0ad4b50a",
   "metadata": {},
   "outputs": [
    {
     "data": {
      "text/plain": [
       "17.0"
      ]
     },
     "execution_count": 8,
     "metadata": {},
     "output_type": "execute_result"
    }
   ],
   "source": [
    "###  This a simple arithmetic  expression to mutiply then add integers.\n",
    "(3*4)+5."
   ]
  },
  {
   "cell_type": "markdown",
   "id": "af15d284",
   "metadata": {},
   "source": [
    "# Exercise 9 - Create a code cell to convert minutes to hours"
   ]
  },
  {
   "cell_type": "markdown",
   "id": "af92b439",
   "metadata": {},
   "source": [
    "###   This will convert 200  minutes to hours by diving by 60"
   ]
  },
  {
   "cell_type": "code",
   "execution_count": 9,
   "id": "696a5287",
   "metadata": {},
   "outputs": [
    {
     "data": {
      "text/plain": [
       "3.3333333333333335"
      ]
     },
     "execution_count": 9,
     "metadata": {},
     "output_type": "execute_result"
    }
   ],
   "source": [
    "# This will convert 200  minutes to hours by diving by 60\n",
    "200/60 "
   ]
  },
  {
   "cell_type": "markdown",
   "id": "79e936ea",
   "metadata": {},
   "source": [
    "# Exercise 10 - Insert a markdown cell to list Objectives"
   ]
  },
  {
   "cell_type": "markdown",
   "id": "79e94509",
   "metadata": {},
   "source": [
    "# Introduction"
   ]
  },
  {
   "cell_type": "code",
   "execution_count": 10,
   "id": "a1ca8fa0",
   "metadata": {},
   "outputs": [
    {
     "ename": "SyntaxError",
     "evalue": "invalid syntax (675825864.py, line 1)",
     "output_type": "error",
     "traceback": [
      "\u001b[1;36m  File \u001b[1;32m\"C:\\Users\\JM\\AppData\\Local\\Temp\\ipykernel_9984\\675825864.py\"\u001b[1;36m, line \u001b[1;32m1\u001b[0m\n\u001b[1;33m    In this notebook, Data Science Tools and Ecosystem are summarized.\u001b[0m\n\u001b[1;37m       ^\u001b[0m\n\u001b[1;31mSyntaxError\u001b[0m\u001b[1;31m:\u001b[0m invalid syntax\n"
     ]
    }
   ],
   "source": [
    " In this notebook, Data Science Tools and Ecosystem are summarized."
   ]
  },
  {
   "cell_type": "markdown",
   "id": "f55ebaa8",
   "metadata": {},
   "source": [
    "# Objectives:\n",
    "\n",
    "In this final assignment, you will:\n",
    "\n",
    "- Create a Jupyter Notebook\n",
    "- Insert code and markdown cells\n",
    "- Share your notebook through GitHub"
   ]
  },
  {
   "cell_type": "markdown",
   "id": "ade740dc",
   "metadata": {},
   "source": [
    "#### In this notebook, Data Science Tools and Ecosystem andSome of the popular languages  are summarized  as below:\n",
    "###   1- JUPYTER NOTEBOOK Or JUPYTER LAB\n",
    "###   2-R  STUDIO\n",
    "###   3-ANACONDA\n",
    "###   4-SPYDER\n",
    "###   5-WATSON STUDIO"
   ]
  },
  {
   "cell_type": "code",
   "execution_count": null,
   "id": "71bdbe4a",
   "metadata": {},
   "outputs": [],
   "source": [
    "import pandas as pd\n",
    "df=pd.DataFrame({\"Numéro\":[1,2,3], \"Data science Language\":[\"Python\",\"R Language \",\"Java,Scala and others\"],\n",
    "                 \"Open Source Developpement Environment\":[\"Jupyter\",\"R Studio\",\"Watson studio\"]})\n",
    "df"
   ]
  },
  {
   "cell_type": "markdown",
   "id": "5ff31a44",
   "metadata": {},
   "source": [
    "# Exercise 11 - Create a markdown cell to indicate the Author's name"
   ]
  },
  {
   "cell_type": "markdown",
   "id": "ecfb5675",
   "metadata": {},
   "source": [
    "## Author Name : "
   ]
  },
  {
   "cell_type": "markdown",
   "id": "a8dca0aa",
   "metadata": {},
   "source": [
    " KPADONOU  Jean-Marie"
   ]
  },
  {
   "cell_type": "markdown",
   "id": "a449122e",
   "metadata": {},
   "source": [
    "# Exercise 12 - Share your notebook through GitHub"
   ]
  },
  {
   "cell_type": "markdown",
   "id": "9dae8b48",
   "metadata": {},
   "source": [
    "the Git hub link or url is below: https://github.com/Jean-Timmy/Gitstata.git "
   ]
  },
  {
   "cell_type": "markdown",
   "id": "4929f6fd",
   "metadata": {},
   "source": [
    "# Exercise 13 - Take a screenshot of the first page of the notebook."
   ]
  },
  {
   "cell_type": "markdown",
   "id": "d4032342",
   "metadata": {},
   "source": [
    "Here we take a screenshot of the first page of the notebook and save it as 1-notebook.png"
   ]
  }
 ],
 "metadata": {
  "kernelspec": {
   "display_name": "Python 3 (ipykernel)",
   "language": "python",
   "name": "python3"
  },
  "language_info": {
   "codemirror_mode": {
    "name": "ipython",
    "version": 3
   },
   "file_extension": ".py",
   "mimetype": "text/x-python",
   "name": "python",
   "nbconvert_exporter": "python",
   "pygments_lexer": "ipython3",
   "version": "3.9.13"
  }
 },
 "nbformat": 4,
 "nbformat_minor": 5
}
